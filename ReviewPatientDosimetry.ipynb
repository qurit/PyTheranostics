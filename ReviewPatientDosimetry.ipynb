{
 "cells": [
  {
   "cell_type": "code",
   "execution_count": 1,
   "id": "82142079-5b16-458c-9966-3fbe71077c82",
   "metadata": {},
   "outputs": [],
   "source": [
    "from doodle.dosimetry import patientdosimetry"
   ]
  },
  {
   "cell_type": "code",
   "execution_count": 2,
   "id": "bc20bbce-af96-4267-980f-5035523b07a7",
   "metadata": {},
   "outputs": [
    {
     "ename": "SyntaxError",
     "evalue": "unterminated string literal (detected at line 1) (2132095848.py, line 1)",
     "output_type": "error",
     "traceback": [
      "\u001b[0;36m  Cell \u001b[0;32mIn[2], line 1\u001b[0;36m\u001b[0m\n\u001b[0;31m    patient_id = \"\u001b[0m\n\u001b[0m                 ^\u001b[0m\n\u001b[0;31mSyntaxError\u001b[0m\u001b[0;31m:\u001b[0m unterminated string literal (detected at line 1)\n"
     ]
    }
   ],
   "source": [
    "patient_id = \"CAVA004\"\n",
    "cycle = \"01\"\n",
    "isotope = \"177Lu\"\n",
    "CT_dir = \"../../ImageData/PR21_dosimetry/CAVA0004/cycle01/CT/\"\n",
    "SPECTMBq_path = \"../../ImageData/PR21_dosimetry/CAVA0004/cycle01/SPECT/2.16.840.1.114362.1.12114306.25207012257.617346348.419.2649.dcm\"\n",
    "masks_path = \"../../ImageData/PR21_dosimetry/CAVA0004/cycle01/SPECT/\""
   ]
  },
  {
   "cell_type": "code",
   "execution_count": null,
   "id": "cf9f3ae0-7dc8-41c3-9383-16266b63049c",
   "metadata": {},
   "outputs": [],
   "source": []
  }
 ],
 "metadata": {
  "kernelspec": {
   "display_name": "Python 3 (ipykernel)",
   "language": "python",
   "name": "python3"
  },
  "language_info": {
   "codemirror_mode": {
    "name": "ipython",
    "version": 3
   },
   "file_extension": ".py",
   "mimetype": "text/x-python",
   "name": "python",
   "nbconvert_exporter": "python",
   "pygments_lexer": "ipython3",
   "version": "3.10.13"
  }
 },
 "nbformat": 4,
 "nbformat_minor": 5
}
