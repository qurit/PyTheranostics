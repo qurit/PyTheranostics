{
 "cells": [
  {
   "cell_type": "code",
   "execution_count": 1,
   "id": "6d072b76-26c2-4789-9d4a-7be2f0170f5c",
   "metadata": {},
   "outputs": [],
   "source": [
    "from doodle.dicomtools.dicomtools import DicomModify\n",
    "import numpy as np\n",
    "import matplotlib.pyplot as plt\n",
    "from pydicom.dataset import Dataset\n",
    "from pydicom.uid import generate_uid\n",
    "\n",
    "%load_ext autoreload\n",
    "%autoreload 2\n",
    "%matplotlib inline"
   ]
  },
  {
   "cell_type": "markdown",
   "id": "0c6f9dbd-0afa-4f6a-87ec-a81120df22ec",
   "metadata": {},
   "source": [
    "### Point to the SPECT image in counts (the one that you want to make quantitative)\n",
    "\n",
    "### and set the output path (the location where you want the QSPECT image to be saved at the end"
   ]
  },
  {
   "cell_type": "code",
   "execution_count": 2,
   "id": "154c4542-32ab-4da3-89d1-170e10a539db",
   "metadata": {},
   "outputs": [],
   "source": [
    "spect_counts='/mnt/c/Users/curibe/Nextcloud/BCCancer/CodeRepositories/doodle/doodle/documentation/testimages/016.dcm'\n",
    "\n",
    "output_path='./test016.dcm'"
   ]
  },
  {
   "cell_type": "markdown",
   "id": "82c8ff82-32de-43f5-936a-f63597c35bc5",
   "metadata": {},
   "source": [
    "### Set the calibration factor for the camera of the centre that you're using"
   ]
  },
  {
   "cell_type": "code",
   "execution_count": 3,
   "id": "14c487d1-3d64-4794-a7e2-02e0ec98ba67",
   "metadata": {},
   "outputs": [],
   "source": [
    "CF = 0.10800584442987242\n",
    "img=DicomModify(spect_counts,CF)"
   ]
  },
  {
   "cell_type": "markdown",
   "id": "15ff709a-66de-45be-960c-c7b0ab1da03d",
   "metadata": {},
   "source": [
    "### Specify the following information from the filled in form from the injection"
   ]
  },
  {
   "cell_type": "code",
   "execution_count": 12,
   "id": "3a7b4268-5548-4100-8173-95eae051ec75",
   "metadata": {},
   "outputs": [
    {
     "data": {
      "text/html": [
       "<div>\n",
       "<style scoped>\n",
       "    .dataframe tbody tr th:only-of-type {\n",
       "        vertical-align: middle;\n",
       "    }\n",
       "\n",
       "    .dataframe tbody tr th {\n",
       "        vertical-align: top;\n",
       "    }\n",
       "\n",
       "    .dataframe thead th {\n",
       "        text-align: right;\n",
       "    }\n",
       "</style>\n",
       "<table border=\"1\" class=\"dataframe\">\n",
       "  <thead>\n",
       "    <tr style=\"text-align: right;\">\n",
       "      <th></th>\n",
       "      <th>injected_activity_MBq</th>\n",
       "      <th>injection_datetime</th>\n",
       "    </tr>\n",
       "  </thead>\n",
       "  <tbody>\n",
       "    <tr>\n",
       "      <th>0</th>\n",
       "      <td>7395.744895</td>\n",
       "      <td>2022-06-16 09:18:00</td>\n",
       "    </tr>\n",
       "  </tbody>\n",
       "</table>\n",
       "</div>"
      ],
      "text/plain": [
       "   injected_activity_MBq  injection_datetime\n",
       "0            7395.744895 2022-06-16 09:18:00"
      ]
     },
     "execution_count": 12,
     "metadata": {},
     "output_type": "execute_result"
    }
   ],
   "source": [
    "weight = 113.4\n",
    "height = 1.785\n",
    "injection_date = '20220616'\n",
    "pre_inj_activity = 7450\n",
    "pre_inj_time = '0804'\n",
    "post_inj_activity = 14.4\n",
    "post_inj_time = '0955'\n",
    "injection_time = '0918'\n",
    "\n",
    "#The activity meteer scale factor is a factor to multiply activity values if the calibration setting of the dose calibrator has changed\n",
    "activity_meter_scale_factor = 1\n",
    "\n",
    "\n",
    "inj_df = img.make_bqml_suv(weight=weight,height=height,injection_date=injection_date,pre_inj_activity=pre_inj_activity,pre_inj_time=pre_inj_time,post_inj_activity=post_inj_activity,post_inj_time=post_inj_time,injection_time=injection_time,activity_meter_scale_factor=activity_meter_scale_factor)\n",
    "img.ds.save_as(output_path)\n",
    "inj_df"
   ]
  },
  {
   "cell_type": "code",
   "execution_count": null,
   "id": "c4cbee90-0ee5-4915-8a4b-fd875a69d804",
   "metadata": {},
   "outputs": [],
   "source": []
  }
 ],
 "metadata": {
  "kernelspec": {
   "display_name": "DOODLE",
   "language": "python",
   "name": "doodle"
  },
  "language_info": {
   "codemirror_mode": {
    "name": "ipython",
    "version": 3
   },
   "file_extension": ".py",
   "mimetype": "text/x-python",
   "name": "python",
   "nbconvert_exporter": "python",
   "pygments_lexer": "ipython3",
   "version": "3.9.7"
  }
 },
 "nbformat": 4,
 "nbformat_minor": 5
}
