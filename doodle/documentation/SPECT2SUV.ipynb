{
 "cells": [
  {
   "cell_type": "code",
   "execution_count": 1,
   "id": "6d072b76-26c2-4789-9d4a-7be2f0170f5c",
   "metadata": {},
   "outputs": [],
   "source": [
    "from doodle.dicomtools.dicomtools import DicomModify\n",
    "import numpy as np\n",
    "import matplotlib.pyplot as plt\n",
    "from pydicom.dataset import Dataset\n",
    "from pydicom.uid import generate_uid\n",
    "\n",
    "%load_ext autoreload\n",
    "%autoreload 2\n",
    "%matplotlib inline"
   ]
  },
  {
   "cell_type": "markdown",
   "id": "0c6f9dbd-0afa-4f6a-87ec-a81120df22ec",
   "metadata": {},
   "source": [
    "### Point to the SPECT image in counts (the one that you want to make quantitative)\n",
    "\n",
    "### and set the output path (the location where you want the QSPECT image to be saved at the end"
   ]
  },
  {
   "cell_type": "code",
   "execution_count": 2,
   "id": "154c4542-32ab-4da3-89d1-170e10a539db",
   "metadata": {},
   "outputs": [],
   "source": [
    "spect_counts='/mnt/c/Users/curibe/Nextcloud/BCCancer/CodeRepositories/doodle/doodle/documentation/testimages/016.dcm'\n",
    "\n",
    "output_path='./test016.dcm'"
   ]
  },
  {
   "cell_type": "markdown",
   "id": "82c8ff82-32de-43f5-936a-f63597c35bc5",
   "metadata": {},
   "source": [
    "### Set the calibration factor for the camera of the centre that you're using"
   ]
  },
  {
   "cell_type": "code",
   "execution_count": 3,
   "id": "14c487d1-3d64-4794-a7e2-02e0ec98ba67",
   "metadata": {},
   "outputs": [],
   "source": [
    "CF = 0.10800584442987242\n",
    "img=DicomModify(spect_counts,CF)"
   ]
  },
  {
   "cell_type": "markdown",
   "id": "15ff709a-66de-45be-960c-c7b0ab1da03d",
   "metadata": {},
   "source": [
    "### Specify the following information from the filled in form from the injection"
   ]
  },
  {
   "cell_type": "code",
   "execution_count": 4,
   "id": "3a7b4268-5548-4100-8173-95eae051ec75",
   "metadata": {},
   "outputs": [],
   "source": [
    "weight = 113.4\n",
    "height = 1.785\n",
    "injection_date = '20220616'\n",
    "pre_inj_activity = 7450\n",
    "pre_inj_time = '0804'\n",
    "post_inj_activity = 14.4\n",
    "post_inj_time = '0955'\n",
    "injection_time = '0918'\n",
    "\n",
    "#The activity meteer scale factor is a factor to multiply activity values if the calibration setting of the dose calibrator has changed\n",
    "activity_meter_scale_factor = 1\n",
    "\n",
    "\n",
    "img.make_bqml_suv(weight=weight,height=height,injection_date=injection_date,pre_inj_activity=pre_inj_activity,pre_inj_time=pre_inj_time,post_inj_activity=post_inj_activity,post_inj_time=post_inj_time,injection_time=injection_time,activity_meter_scale_factor=activity_meter_scale_factor)\n",
    "img.ds.save_as(output_path)"
   ]
  },
  {
   "cell_type": "code",
   "execution_count": null,
   "id": "6e2b744e-8def-48e2-9d2d-58a5aea58b8e",
   "metadata": {},
   "outputs": [],
   "source": []
  }
 ],
 "metadata": {
  "kernelspec": {
   "display_name": "DOODLE",
   "language": "python",
   "name": "doodle"
  },
  "language_info": {
   "codemirror_mode": {
    "name": "ipython",
    "version": 3
   },
   "file_extension": ".py",
   "mimetype": "text/x-python",
   "name": "python",
   "nbconvert_exporter": "python",
   "pygments_lexer": "ipython3",
   "version": "3.9.7"
  }
 },
 "nbformat": 4,
 "nbformat_minor": 5
}
