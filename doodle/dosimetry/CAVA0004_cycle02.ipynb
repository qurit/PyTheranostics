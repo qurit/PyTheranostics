{
 "cells": [
  {
   "cell_type": "code",
   "execution_count": null,
   "metadata": {},
   "outputs": [],
   "source": [
    "trial = 'PR21'\n",
    "isotope = '177Lu'\n",
    "radiopharmaceutical = '177Lu - PSMA-617'\n",
    "patient_id = 'CAVA0004'\n",
    "cycle = '2'\n",
    "\n",
    "calculations_performed_by = 'Sara Kurkowska'\n",
    "date = '30-08-2023' \n",
    "calculations_verified_by = ''\n"
   ]
  },
  {
   "cell_type": "code",
   "execution_count": null,
   "metadata": {},
   "outputs": [],
   "source": [
    "from pr21_dataframes import getinputdata, getdosemapdata, intf2dcm\n",
    "from patientdosimetry import PatientDosimetry\n",
    "from mc import MonteCarlo\n",
    "from dvk import DoseVoxelKernel\n",
    "from olinda import Olinda\n",
    "from dosemap_analysis import Dosemap\n",
    "import pandas as pd\n",
    "\n",
    "%load_ext autoreload\n",
    "%autoreload 2"
   ]
  },
  {
   "cell_type": "code",
   "execution_count": null,
   "metadata": {},
   "outputs": [],
   "source": [
    "mimcsv_tp1, injectioninfo1, CT, SPECT, RT = getinputdata(patient_id, cycle)\n"
   ]
  },
  {
   "cell_type": "code",
   "execution_count": null,
   "metadata": {},
   "outputs": [],
   "source": [
    "CAVA0004_cycle02 = PatientDosimetry(patient_id, cycle, isotope, CT, SPECT, RT, mimcsv_tp1, injectioninfo1)"
   ]
  },
  {
   "cell_type": "code",
   "execution_count": null,
   "metadata": {},
   "outputs": [],
   "source": [
    "organlist = CAVA0004_cycle02.dataframe()"
   ]
  },
  {
   "cell_type": "code",
   "execution_count": null,
   "metadata": {},
   "outputs": [],
   "source": [
    "df, lamda_eff_dict = CAVA0004_cycle02.takefitfromcycle1_andintegrate()"
   ]
  },
  {
   "cell_type": "code",
   "execution_count": null,
   "metadata": {},
   "outputs": [],
   "source": [
    "CAVA0004_cycle02.create_TIA()"
   ]
  },
  {
   "cell_type": "code",
   "execution_count": null,
   "metadata": {},
   "outputs": [],
   "source": [
    "TIAMBqs = CAVA0004_cycle02.flip_images()"
   ]
  },
  {
   "cell_type": "code",
   "execution_count": null,
   "metadata": {},
   "outputs": [],
   "source": [
    "CAVA0004_cycle02.image_visualisation(CT)"
   ]
  },
  {
   "cell_type": "code",
   "execution_count": null,
   "metadata": {},
   "outputs": [],
   "source": [
    "CAVA0004_cycle02.normalise_TIA()"
   ]
  },
  {
   "cell_type": "code",
   "execution_count": null,
   "metadata": {},
   "outputs": [],
   "source": [
    "CAVA0004_cycle02.save_images()"
   ]
  },
  {
   "cell_type": "markdown",
   "metadata": {},
   "source": [
    "## Monte Carlo"
   ]
  },
  {
   "cell_type": "markdown",
   "metadata": {},
   "source": [
    "## VSV Kernel"
   ]
  },
  {
   "cell_type": "code",
   "execution_count": null,
   "metadata": {},
   "outputs": [],
   "source": [
    "CAVA0004_cycle02_DVK = DoseVoxelKernel(TIAMBqs, CT)"
   ]
  },
  {
   "cell_type": "code",
   "execution_count": null,
   "metadata": {},
   "outputs": [],
   "source": [
    "CAVA0004_cycle02_DVK.kernel()"
   ]
  },
  {
   "cell_type": "code",
   "execution_count": null,
   "metadata": {},
   "outputs": [],
   "source": [
    "dosemap_nonweighted = CAVA0004_cycle02_DVK.convolution()"
   ]
  },
  {
   "cell_type": "code",
   "execution_count": null,
   "metadata": {},
   "outputs": [],
   "source": [
    "dosemap = CAVA0004_cycle02_DVK.weighting(dosemap_nonweighted)"
   ]
  },
  {
   "cell_type": "markdown",
   "metadata": {},
   "source": [
    "## Olinda"
   ]
  },
  {
   "cell_type": "markdown",
   "metadata": {},
   "source": [
    "## Results"
   ]
  },
  {
   "cell_type": "code",
   "execution_count": null,
   "metadata": {},
   "outputs": [],
   "source": [
    "CAVA0004_cycle01_dosemap = Dosemap(df, patient_id, cycle, dosemap, RT, organlist)"
   ]
  },
  {
   "cell_type": "code",
   "execution_count": null,
   "metadata": {},
   "outputs": [],
   "source": [
    "CAVA0004_cycle01_dosemap.show_mean_statistics()"
   ]
  },
  {
   "cell_type": "code",
   "execution_count": null,
   "metadata": {},
   "outputs": [],
   "source": [
    "CAVA0004_cycle01_dosemap.calculate_bed()"
   ]
  },
  {
   "cell_type": "code",
   "execution_count": null,
   "metadata": {},
   "outputs": [],
   "source": [
    "df.to_csv(f\"/mnt/y/Sara/PR21_dosimetry/output/{patient_id}_cycle0{cycle}_dosimetry_output.csv\")"
   ]
  }
 ],
 "metadata": {
  "kernelspec": {
   "display_name": "dosimetry",
   "language": "python",
   "name": "python3"
  },
  "language_info": {
   "codemirror_mode": {
    "name": "ipython",
    "version": 3
   },
   "file_extension": ".py",
   "mimetype": "text/x-python",
   "name": "python",
   "nbconvert_exporter": "python",
   "pygments_lexer": "ipython3",
   "version": "3.10.12"
  },
  "orig_nbformat": 4
 },
 "nbformat": 4,
 "nbformat_minor": 2
}
