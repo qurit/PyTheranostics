{
 "cells": [
  {
   "cell_type": "code",
   "execution_count": 1,
   "metadata": {},
   "outputs": [],
   "source": [
    "from doodle.dosimetry.BaseDosimetry import BaseDosimetry\n",
    "from doodle.ImagingTools.Tools import create_logitudinal_from_dicom, load_and_resample_RT\n",
    "import matplotlib.pyplot as plt\n",
    "from pathlib import Path\n",
    "\n",
    "# Autoreload magic\n",
    "%load_ext autoreload\n",
    "%autoreload 2\n"
   ]
  },
  {
   "cell_type": "code",
   "execution_count": 3,
   "metadata": {},
   "outputs": [],
   "source": [
    "# Prepare DataStructures for CT and NM Data\n",
    "db_dir = Path(\"/home/esquinas/Data/PR21_dosimetry/CAVA0004/cycle01\")\n",
    "\n",
    "# Set Paths to each time point. In my example, I only have 1 time point ... :(\n",
    "time_points = [db_dir]\n",
    "\n",
    "# Create Longitudinal Studies:\n",
    "ct_paths = []\n",
    "ctac_paths = []\n",
    "spect_paths = []\n",
    "\n",
    "for dir in time_points:\n",
    "    ct_paths.append(str(dir / \"CT\"))\n",
    "    ctac_paths.append(str(dir / \"CTAC\"))\n",
    "    spect_paths.append(str(dir / \"SPECT\"))\n",
    "\n",
    "longCT = create_logitudinal_from_dicom(dicom_dirs=ct_paths, modality=\"CT\")\n",
    "longCTAC = create_logitudinal_from_dicom(dicom_dirs=ctac_paths, modality=\"CT\")\n",
    "longSPECT = create_logitudinal_from_dicom(dicom_dirs=spect_paths, modality=\"Lu177_SPECT\")\n",
    "\n",
    "# Add Masks: Here we need to read RTStruct from CT, and re-sample to CTAC (== SPECT) frame.\n",
    "ct_masks = {}\n",
    "ctac_masks = {}\n",
    "\n",
    "for time_id, dir in enumerate(time_points):\n",
    "    ct_, ctac_ = load_and_resample_RT(str(dir / \"CT\"), target_shape=longCTAC.images[time_id].GetSize())\n",
    "    longCT.add_masks_to_time_point(time_id=time_id, masks=ct_)\n",
    "    longCTAC.add_masks_to_time_point(time_id=time_id, masks=ctac_)\n",
    "    longSPECT.add_masks_to_time_point(time_id=time_id, masks=ctac_)\n"
   ]
  },
  {
   "cell_type": "code",
   "execution_count": 16,
   "metadata": {},
   "outputs": [],
   "source": [
    "# Configuration File\n",
    "# We should look into making a yaml file (similar to pyRadiomics) to specify input configuration. For now... let's make\n",
    "# it a simple Dict.\n",
    "config = {\n",
    "    \"Operator\": \"PLEF\",\n",
    "    \"PatientID\": \"PR21-CAVA-0004\",\n",
    "    \"Cycle\": 1,\n",
    "    \"DatabaseDir\": \"./TestDoseDB\",\n",
    "    \"InjectionDate\": \"20210909\",   #YYYYMMDD\n",
    "    \"InjectionTime\": \"100000\", #HHMMSS in 24h\n",
    "    \"rois\": {\"Liver\": {\"fit_order\": 1, \"through_origin\": False},  \n",
    "             \"Kidney_L_m\": {\"fit_order\": 1, \"through_origin\": False},  # 1 for mono, 2 for bi, 3 for tri-exponential\n",
    "             \"Kidney_R_m\": {\"fit_order\": 1, \"through_origin\": False}, \n",
    "             \"BoneMarrow\": {\"fit_order\": 1, \"through_origin\": False}, \n",
    "             \"Spleen\": {\"fit_order\": 1, \"through_origin\": False}\n",
    "            },\n",
    "    \"Level\": \"Organ\", # Organ or Voxel. Voxel level will provide 3-D dose-map, and also organ-level values.\n",
    "    \"Method\": \"S-Value\", # S-value, or Monte-Carlo.\n",
    "}\n"
   ]
  },
  {
   "cell_type": "code",
   "execution_count": 19,
   "metadata": {},
   "outputs": [
    {
     "name": "stdout",
     "output_type": "stream",
     "text": [
      "Database search function not implemented. Dosimetry for this patient might already exists...\n",
      "Although mask for 1_Lesion is present, we are ignoring it because this region was not included in the configuration input file.\n",
      "Although mask for 2_Lesion_Hottest is present, we are ignoring it because this region was not included in the configuration input file.\n",
      "Although mask for 3_Lesion is present, we are ignoring it because this region was not included in the configuration input file.\n",
      "Although mask for 4_Lesion is present, we are ignoring it because this region was not included in the configuration input file.\n",
      "Although mask for 5_Lesion is present, we are ignoring it because this region was not included in the configuration input file.\n",
      "Although mask for Bladder_Experimental is present, we are ignoring it because this region was not included in the configuration input file.\n",
      "Although mask for Femur_L is present, we are ignoring it because this region was not included in the configuration input file.\n",
      "Although mask for Femur_R is present, we are ignoring it because this region was not included in the configuration input file.\n",
      "Although mask for Humerus_L is present, we are ignoring it because this region was not included in the configuration input file.\n",
      "Although mask for Humerus_R is present, we are ignoring it because this region was not included in the configuration input file.\n",
      "Although mask for Kidney_L_a is present, we are ignoring it because this region was not included in the configuration input file.\n",
      "Although mask for Kidney_R_a is present, we are ignoring it because this region was not included in the configuration input file.\n",
      "Although mask for L1 is present, we are ignoring it because this region was not included in the configuration input file.\n",
      "Although mask for L2 is present, we are ignoring it because this region was not included in the configuration input file.\n",
      "Although mask for L3 is present, we are ignoring it because this region was not included in the configuration input file.\n",
      "Although mask for L4 is present, we are ignoring it because this region was not included in the configuration input file.\n",
      "Although mask for Liver_Reference is present, we are ignoring it because this region was not included in the configuration input file.\n",
      "Although mask for ParotidglandL is present, we are ignoring it because this region was not included in the configuration input file.\n",
      "Although mask for ParotidglandR is present, we are ignoring it because this region was not included in the configuration input file.\n",
      "Although mask for Skeleton is present, we are ignoring it because this region was not included in the configuration input file.\n",
      "Although mask for SubmandibularglandL is present, we are ignoring it because this region was not included in the configuration input file.\n",
      "Although mask for SubmandibularglandR is present, we are ignoring it because this region was not included in the configuration input file.\n",
      "Although mask for TotalTumorBurden is present, we are ignoring it because this region was not included in the configuration input file.\n",
      "Although mask for WBCT is present, we are ignoring it because this region was not included in the configuration input file.\n"
     ]
    },
    {
     "ename": "AssertionError",
     "evalue": "Only 1 data points available. Not enough points to perform fit.",
     "output_type": "error",
     "traceback": [
      "\u001b[0;31m---------------------------------------------------------------------------\u001b[0m",
      "\u001b[0;31mAssertionError\u001b[0m                            Traceback (most recent call last)",
      "Cell \u001b[0;32mIn[19], line 4\u001b[0m\n\u001b[1;32m      1\u001b[0m DoseCalculator \u001b[38;5;241m=\u001b[39m BaseDosimetry(config\u001b[38;5;241m=\u001b[39mconfig, \n\u001b[1;32m      2\u001b[0m                                nm_data\u001b[38;5;241m=\u001b[39mlongSPECT, \n\u001b[1;32m      3\u001b[0m                                ct_data\u001b[38;5;241m=\u001b[39mlongCTAC)\n\u001b[0;32m----> 4\u001b[0m \u001b[43mDoseCalculator\u001b[49m\u001b[38;5;241;43m.\u001b[39;49m\u001b[43mcompute_tiac\u001b[49m\u001b[43m(\u001b[49m\u001b[43m)\u001b[49m\n\u001b[1;32m      5\u001b[0m DoseCalculator\u001b[38;5;241m.\u001b[39mresults\n",
      "File \u001b[0;32m~/git/PyTheranostics/doodle/dosimetry/BaseDosimetry.py:144\u001b[0m, in \u001b[0;36mBaseDosimetry.compute_tiac\u001b[0;34m(self)\u001b[0m\n\u001b[1;32m    139\u001b[0m tmp_tiac_data \u001b[38;5;241m=\u001b[39m {\u001b[38;5;124m\"\u001b[39m\u001b[38;5;124mFit_params\u001b[39m\u001b[38;5;124m\"\u001b[39m: [], \u001b[38;5;124m\"\u001b[39m\u001b[38;5;124mTIAC_MBq_s\u001b[39m\u001b[38;5;124m\"\u001b[39m: [], \u001b[38;5;124m\"\u001b[39m\u001b[38;5;124mTIAC_h\u001b[39m\u001b[38;5;124m\"\u001b[39m: [], \u001b[38;5;124m\"\u001b[39m\u001b[38;5;124mLambda_eff\u001b[39m\u001b[38;5;124m\"\u001b[39m: []}\n\u001b[1;32m    141\u001b[0m \u001b[38;5;28;01mfor\u001b[39;00m region, region_data \u001b[38;5;129;01min\u001b[39;00m \u001b[38;5;28mself\u001b[39m\u001b[38;5;241m.\u001b[39mresults\u001b[38;5;241m.\u001b[39miterrows():\n\u001b[1;32m    142\u001b[0m \n\u001b[1;32m    143\u001b[0m     \u001b[38;5;66;03m# TODO: QA of fit. (e.g., plots)\u001b[39;00m\n\u001b[0;32m--> 144\u001b[0m     fit_params, _ \u001b[38;5;241m=\u001b[39m \u001b[43mfit_tac\u001b[49m\u001b[43m(\u001b[49m\n\u001b[1;32m    145\u001b[0m \u001b[43m        \u001b[49m\u001b[43mtime\u001b[49m\u001b[38;5;241;43m=\u001b[39;49m\u001b[43mnumpy\u001b[49m\u001b[38;5;241;43m.\u001b[39;49m\u001b[43marray\u001b[49m\u001b[43m(\u001b[49m\u001b[43mregion_data\u001b[49m\u001b[43m[\u001b[49m\u001b[38;5;124;43m\"\u001b[39;49m\u001b[38;5;124;43mTime_hr\u001b[39;49m\u001b[38;5;124;43m\"\u001b[39;49m\u001b[43m]\u001b[49m\u001b[43m)\u001b[49m\u001b[43m,\u001b[49m\n\u001b[1;32m    146\u001b[0m \u001b[43m        \u001b[49m\u001b[43mactivity\u001b[49m\u001b[38;5;241;43m=\u001b[39;49m\u001b[43mnumpy\u001b[49m\u001b[38;5;241;43m.\u001b[39;49m\u001b[43marray\u001b[49m\u001b[43m(\u001b[49m\u001b[43mregion_data\u001b[49m\u001b[43m[\u001b[49m\u001b[38;5;124;43m\"\u001b[39;49m\u001b[38;5;124;43mActivity_Bq\u001b[39;49m\u001b[38;5;124;43m\"\u001b[39;49m\u001b[43m]\u001b[49m\u001b[43m)\u001b[49m\u001b[43m,\u001b[49m\n\u001b[1;32m    147\u001b[0m \u001b[43m        \u001b[49m\u001b[43mdecayconst\u001b[49m\u001b[38;5;241;43m=\u001b[39;49m\u001b[43mdecay_constant\u001b[49m\u001b[43m,\u001b[49m\n\u001b[1;32m    148\u001b[0m \u001b[43m        \u001b[49m\u001b[43mexp_order\u001b[49m\u001b[38;5;241;43m=\u001b[39;49m\u001b[38;5;28;43mself\u001b[39;49m\u001b[38;5;241;43m.\u001b[39;49m\u001b[43mconfig\u001b[49m\u001b[43m[\u001b[49m\u001b[38;5;124;43m\"\u001b[39;49m\u001b[38;5;124;43mrois\u001b[39;49m\u001b[38;5;124;43m\"\u001b[39;49m\u001b[43m]\u001b[49m\u001b[43m[\u001b[49m\u001b[43mregion\u001b[49m\u001b[43m]\u001b[49m\u001b[43m[\u001b[49m\u001b[38;5;124;43m\"\u001b[39;49m\u001b[38;5;124;43mfit_order\u001b[39;49m\u001b[38;5;124;43m\"\u001b[39;49m\u001b[43m]\u001b[49m\u001b[43m,\u001b[49m\n\u001b[1;32m    149\u001b[0m \u001b[43m        \u001b[49m\u001b[43mthrough_origin\u001b[49m\u001b[38;5;241;43m=\u001b[39;49m\u001b[38;5;28;43mself\u001b[39;49m\u001b[38;5;241;43m.\u001b[39;49m\u001b[43mconfig\u001b[49m\u001b[43m[\u001b[49m\u001b[38;5;124;43m\"\u001b[39;49m\u001b[38;5;124;43mrois\u001b[39;49m\u001b[38;5;124;43m\"\u001b[39;49m\u001b[43m]\u001b[49m\u001b[43m[\u001b[49m\u001b[43mregion\u001b[49m\u001b[43m]\u001b[49m\u001b[43m[\u001b[49m\u001b[38;5;124;43m\"\u001b[39;49m\u001b[38;5;124;43mthrough_origin\u001b[39;49m\u001b[38;5;124;43m\"\u001b[39;49m\u001b[43m]\u001b[49m\n\u001b[1;32m    150\u001b[0m \u001b[43m    \u001b[49m\u001b[43m)\u001b[49m\n\u001b[1;32m    152\u001b[0m     \u001b[38;5;66;03m# Fitting Parameters\u001b[39;00m\n\u001b[1;32m    153\u001b[0m     tmp_tiac_data[\u001b[38;5;124m\"\u001b[39m\u001b[38;5;124mFit_params\u001b[39m\u001b[38;5;124m\"\u001b[39m]\u001b[38;5;241m.\u001b[39mappend(fit_params)\n",
      "File \u001b[0;32m~/git/PyTheranostics/doodle/fits/fits.py:93\u001b[0m, in \u001b[0;36mfit_tac\u001b[0;34m(time, activity, decayconst, exp_order, weights, param_init, maxev, through_origin)\u001b[0m\n\u001b[1;32m     90\u001b[0m     \u001b[38;5;28;01mraise\u001b[39;00m \u001b[38;5;167;01mAssertionError\u001b[39;00m(\u001b[38;5;124m\"\u001b[39m\u001b[38;5;124mTime and Weights arrays have different shapes.\u001b[39m\u001b[38;5;124m\"\u001b[39m)\n\u001b[1;32m     92\u001b[0m \u001b[38;5;28;01mif\u001b[39;00m time\u001b[38;5;241m.\u001b[39mshape[\u001b[38;5;241m0\u001b[39m] \u001b[38;5;241m<\u001b[39m \u001b[38;5;241m2\u001b[39m \u001b[38;5;241m*\u001b[39m \u001b[38;5;28mabs\u001b[39m(exp_order):\n\u001b[0;32m---> 93\u001b[0m     \u001b[38;5;28;01mraise\u001b[39;00m \u001b[38;5;167;01mAssertionError\u001b[39;00m(\u001b[38;5;124mf\u001b[39m\u001b[38;5;124m\"\u001b[39m\u001b[38;5;124mOnly \u001b[39m\u001b[38;5;132;01m{\u001b[39;00mtime\u001b[38;5;241m.\u001b[39mshape[\u001b[38;5;241m0\u001b[39m]\u001b[38;5;132;01m}\u001b[39;00m\u001b[38;5;124m data points available. Not enough points to perform fit.\u001b[39m\u001b[38;5;124m\"\u001b[39m)\n\u001b[1;32m     95\u001b[0m popt, _ \u001b[38;5;241m=\u001b[39m curve_fit(exp_function, time, activity, sigma\u001b[38;5;241m=\u001b[39mweights,\n\u001b[1;32m     96\u001b[0m                     p0\u001b[38;5;241m=\u001b[39minitial_params,\n\u001b[1;32m     97\u001b[0m                     bounds\u001b[38;5;241m=\u001b[39mbounds, maxfev\u001b[38;5;241m=\u001b[39mmaxev)\n\u001b[1;32m     99\u001b[0m r_squared, residuals \u001b[38;5;241m=\u001b[39m calculate_r_squared(time\u001b[38;5;241m=\u001b[39mtime, activity\u001b[38;5;241m=\u001b[39mactivity, popt\u001b[38;5;241m=\u001b[39mpopt, func\u001b[38;5;241m=\u001b[39mexp_function)\n",
      "\u001b[0;31mAssertionError\u001b[0m: Only 1 data points available. Not enough points to perform fit."
     ]
    }
   ],
   "source": [
    "DoseCalculator = BaseDosimetry(config=config, \n",
    "                               nm_data=longSPECT, \n",
    "                               ct_data=longCTAC)\n",
    "DoseCalculator.compute_tiac()\n",
    "DoseCalculator.results"
   ]
  },
  {
   "cell_type": "code",
   "execution_count": null,
   "metadata": {},
   "outputs": [],
   "source": []
  }
 ],
 "metadata": {
  "kernelspec": {
   "display_name": "Python 3 (ipykernel)",
   "language": "python",
   "name": "python3"
  },
  "language_info": {
   "codemirror_mode": {
    "name": "ipython",
    "version": 3
   },
   "file_extension": ".py",
   "mimetype": "text/x-python",
   "name": "python",
   "nbconvert_exporter": "python",
   "pygments_lexer": "ipython3",
   "version": "3.10.12"
  }
 },
 "nbformat": 4,
 "nbformat_minor": 4
}
